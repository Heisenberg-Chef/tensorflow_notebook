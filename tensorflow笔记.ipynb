{
 "cells": [
  {
   "cell_type": "code",
   "execution_count": 1,
   "id": "c425e1a7-f9fd-474f-9bdc-4292b6f3f141",
   "metadata": {},
   "outputs": [],
   "source": [
    "import tensorflow as tf"
   ]
  },
  {
   "cell_type": "code",
   "execution_count": 5,
   "id": "272a973f-614a-491f-b46d-1cfc96f75768",
   "metadata": {},
   "outputs": [
    {
     "data": {
      "text/plain": [
       "<tf.Tensor: shape=(1, 3, 3), dtype=float32, numpy=\n",
       "array([[[0., 0., 0.],\n",
       "        [0., 0., 0.],\n",
       "        [0., 0., 0.]]], dtype=float32)>"
      ]
     },
     "execution_count": 5,
     "metadata": {},
     "output_type": "execute_result"
    }
   ],
   "source": [
    "# 扩充0\n",
    "tf.zeros([1,3,3])"
   ]
  },
  {
   "cell_type": "code",
   "execution_count": 6,
   "id": "369eb939-48f0-4b17-9add-0acfea3c4505",
   "metadata": {},
   "outputs": [
    {
     "data": {
      "text/plain": [
       "<tf.Tensor: shape=(1, 3, 3), dtype=float32, numpy=\n",
       "array([[[1., 1., 1.],\n",
       "        [1., 1., 1.],\n",
       "        [1., 1., 1.]]], dtype=float32)>"
      ]
     },
     "execution_count": 6,
     "metadata": {},
     "output_type": "execute_result"
    }
   ],
   "source": [
    "# 扩充1\n",
    "tf.ones([1,3,3])"
   ]
  },
  {
   "cell_type": "code",
   "execution_count": 7,
   "id": "891244d2-93d6-4b67-9e23-2291f90b2215",
   "metadata": {},
   "outputs": [
    {
     "data": {
      "text/plain": [
       "<tf.Tensor: shape=(1, 3, 3), dtype=int32, numpy=\n",
       "array([[[99, 99, 99],\n",
       "        [99, 99, 99],\n",
       "        [99, 99, 99]]])>"
      ]
     },
     "execution_count": 7,
     "metadata": {},
     "output_type": "execute_result"
    }
   ],
   "source": [
    "# 扩充指定的值\n",
    "tf.fill([1,3,3],99)"
   ]
  },
  {
   "cell_type": "code",
   "execution_count": 10,
   "id": "4b180fcf-32bb-4e3f-b46c-a855e94ca4cd",
   "metadata": {},
   "outputs": [
    {
     "data": {
      "text/plain": [
       "<tf.Tensor: shape=(1, 3, 3), dtype=float32, numpy=\n",
       "array([[[ 1.6797717 ,  2.984737  ,  1.402016  ],\n",
       "        [ 1.6980629 ,  1.8256819 ,  0.08721715],\n",
       "        [ 0.43552577,  1.4258475 , -0.37625754]]], dtype=float32)>"
      ]
     },
     "execution_count": 10,
     "metadata": {},
     "output_type": "execute_result"
    }
   ],
   "source": [
    "# 随机数，从标准正太分布中生成随机\n",
    "tf.random.normal([1,3,3],mean=1,stddev=1)"
   ]
  },
  {
   "cell_type": "code",
   "execution_count": null,
   "id": "96fd680e-41a5-4d32-9f47-24705929d539",
   "metadata": {},
   "outputs": [],
   "source": [
    "# 生成截断式的正态分布的随机数\n",
    "tf.random.truncated_normal([1,3,3],mean=1,stddev=1)"
   ]
  }
 ],
 "metadata": {
  "kernelspec": {
   "display_name": "Python 3 (ipykernel)",
   "language": "python",
   "name": "python3"
  },
  "language_info": {
   "codemirror_mode": {
    "name": "ipython",
    "version": 3
   },
   "file_extension": ".py",
   "mimetype": "text/x-python",
   "name": "python",
   "nbconvert_exporter": "python",
   "pygments_lexer": "ipython3",
   "version": "3.9.18"
  }
 },
 "nbformat": 4,
 "nbformat_minor": 5
}
